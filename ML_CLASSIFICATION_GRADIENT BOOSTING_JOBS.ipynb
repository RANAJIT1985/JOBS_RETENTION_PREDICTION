{
 "cells": [
  {
   "cell_type": "markdown",
   "id": "d91a9db4",
   "metadata": {},
   "source": [
    "# This is a student performance data table , we have to predict their performance.\n",
    "Step_01  , IMPORTING OF LIBRARIES"
   ]
  },
  {
   "cell_type": "code",
   "execution_count": 1,
   "id": "d3a71f53",
   "metadata": {},
   "outputs": [],
   "source": [
    "import pandas as pd\n",
    "import numpy as np\n",
    "import matplotlib.pyplot as plt\n",
    "import seaborn as sns"
   ]
  },
  {
   "cell_type": "markdown",
   "id": "85246c68",
   "metadata": {},
   "source": [
    "IMPORTING OF DATA FILES"
   ]
  },
  {
   "cell_type": "code",
   "execution_count": 2,
   "id": "dcf35413",
   "metadata": {},
   "outputs": [],
   "source": [
    "df = pd.read_csv('JOB.csv')"
   ]
  },
  {
   "cell_type": "code",
   "execution_count": 3,
   "id": "0961137e",
   "metadata": {},
   "outputs": [
    {
     "data": {
      "text/plain": [
       "(1500, 11)"
      ]
     },
     "execution_count": 3,
     "metadata": {},
     "output_type": "execute_result"
    }
   ],
   "source": [
    "df.shape"
   ]
  },
  {
   "cell_type": "markdown",
   "id": "d00b510d",
   "metadata": {},
   "source": [
    "DATA DUPLICATION CHECK"
   ]
  },
  {
   "cell_type": "code",
   "execution_count": 4,
   "id": "21f6f424",
   "metadata": {},
   "outputs": [
    {
     "data": {
      "text/plain": [
       "0"
      ]
     },
     "execution_count": 4,
     "metadata": {},
     "output_type": "execute_result"
    }
   ],
   "source": [
    "df.duplicated().sum()"
   ]
  },
  {
   "cell_type": "markdown",
   "id": "2d8b426f",
   "metadata": {},
   "source": [
    "NULL VALUE CHECK"
   ]
  },
  {
   "cell_type": "code",
   "execution_count": 5,
   "id": "377807bd",
   "metadata": {},
   "outputs": [
    {
     "data": {
      "text/plain": [
       "Age                    0\n",
       "Gender                 0\n",
       "EducationLevel         0\n",
       "ExperienceYears        0\n",
       "PreviousCompanies      0\n",
       "DistanceFromCompany    0\n",
       "InterviewScore         0\n",
       "SkillScore             0\n",
       "PersonalityScore       0\n",
       "RecruitmentStrategy    0\n",
       "HiringDecision         0\n",
       "dtype: int64"
      ]
     },
     "execution_count": 5,
     "metadata": {},
     "output_type": "execute_result"
    }
   ],
   "source": [
    "df.isnull().sum()"
   ]
  },
  {
   "cell_type": "code",
   "execution_count": 6,
   "id": "3350cd21",
   "metadata": {},
   "outputs": [
    {
     "data": {
      "text/html": [
       "<div>\n",
       "<style scoped>\n",
       "    .dataframe tbody tr th:only-of-type {\n",
       "        vertical-align: middle;\n",
       "    }\n",
       "\n",
       "    .dataframe tbody tr th {\n",
       "        vertical-align: top;\n",
       "    }\n",
       "\n",
       "    .dataframe thead th {\n",
       "        text-align: right;\n",
       "    }\n",
       "</style>\n",
       "<table border=\"1\" class=\"dataframe\">\n",
       "  <thead>\n",
       "    <tr style=\"text-align: right;\">\n",
       "      <th></th>\n",
       "      <th>count</th>\n",
       "      <th>mean</th>\n",
       "      <th>std</th>\n",
       "      <th>min</th>\n",
       "      <th>25%</th>\n",
       "      <th>50%</th>\n",
       "      <th>75%</th>\n",
       "      <th>max</th>\n",
       "    </tr>\n",
       "  </thead>\n",
       "  <tbody>\n",
       "    <tr>\n",
       "      <th>Age</th>\n",
       "      <td>1500.0</td>\n",
       "      <td>35.148667</td>\n",
       "      <td>9.252728</td>\n",
       "      <td>20.000000</td>\n",
       "      <td>27.000000</td>\n",
       "      <td>35.000000</td>\n",
       "      <td>43.000000</td>\n",
       "      <td>50.000000</td>\n",
       "    </tr>\n",
       "    <tr>\n",
       "      <th>Gender</th>\n",
       "      <td>1500.0</td>\n",
       "      <td>0.492000</td>\n",
       "      <td>0.500103</td>\n",
       "      <td>0.000000</td>\n",
       "      <td>0.000000</td>\n",
       "      <td>0.000000</td>\n",
       "      <td>1.000000</td>\n",
       "      <td>1.000000</td>\n",
       "    </tr>\n",
       "    <tr>\n",
       "      <th>EducationLevel</th>\n",
       "      <td>1500.0</td>\n",
       "      <td>2.188000</td>\n",
       "      <td>0.862449</td>\n",
       "      <td>1.000000</td>\n",
       "      <td>2.000000</td>\n",
       "      <td>2.000000</td>\n",
       "      <td>3.000000</td>\n",
       "      <td>4.000000</td>\n",
       "    </tr>\n",
       "    <tr>\n",
       "      <th>ExperienceYears</th>\n",
       "      <td>1500.0</td>\n",
       "      <td>7.694000</td>\n",
       "      <td>4.641414</td>\n",
       "      <td>0.000000</td>\n",
       "      <td>4.000000</td>\n",
       "      <td>8.000000</td>\n",
       "      <td>12.000000</td>\n",
       "      <td>15.000000</td>\n",
       "    </tr>\n",
       "    <tr>\n",
       "      <th>PreviousCompanies</th>\n",
       "      <td>1500.0</td>\n",
       "      <td>3.002000</td>\n",
       "      <td>1.410670</td>\n",
       "      <td>1.000000</td>\n",
       "      <td>2.000000</td>\n",
       "      <td>3.000000</td>\n",
       "      <td>4.000000</td>\n",
       "      <td>5.000000</td>\n",
       "    </tr>\n",
       "    <tr>\n",
       "      <th>DistanceFromCompany</th>\n",
       "      <td>1500.0</td>\n",
       "      <td>25.505379</td>\n",
       "      <td>14.567151</td>\n",
       "      <td>1.031376</td>\n",
       "      <td>12.838851</td>\n",
       "      <td>25.502239</td>\n",
       "      <td>37.737996</td>\n",
       "      <td>50.992462</td>\n",
       "    </tr>\n",
       "    <tr>\n",
       "      <th>InterviewScore</th>\n",
       "      <td>1500.0</td>\n",
       "      <td>50.564000</td>\n",
       "      <td>28.626215</td>\n",
       "      <td>0.000000</td>\n",
       "      <td>25.000000</td>\n",
       "      <td>52.000000</td>\n",
       "      <td>75.000000</td>\n",
       "      <td>100.000000</td>\n",
       "    </tr>\n",
       "    <tr>\n",
       "      <th>SkillScore</th>\n",
       "      <td>1500.0</td>\n",
       "      <td>51.116000</td>\n",
       "      <td>29.353563</td>\n",
       "      <td>0.000000</td>\n",
       "      <td>25.750000</td>\n",
       "      <td>53.000000</td>\n",
       "      <td>76.000000</td>\n",
       "      <td>100.000000</td>\n",
       "    </tr>\n",
       "    <tr>\n",
       "      <th>PersonalityScore</th>\n",
       "      <td>1500.0</td>\n",
       "      <td>49.387333</td>\n",
       "      <td>29.353201</td>\n",
       "      <td>0.000000</td>\n",
       "      <td>23.000000</td>\n",
       "      <td>49.000000</td>\n",
       "      <td>76.000000</td>\n",
       "      <td>100.000000</td>\n",
       "    </tr>\n",
       "    <tr>\n",
       "      <th>RecruitmentStrategy</th>\n",
       "      <td>1500.0</td>\n",
       "      <td>1.893333</td>\n",
       "      <td>0.689642</td>\n",
       "      <td>1.000000</td>\n",
       "      <td>1.000000</td>\n",
       "      <td>2.000000</td>\n",
       "      <td>2.000000</td>\n",
       "      <td>3.000000</td>\n",
       "    </tr>\n",
       "    <tr>\n",
       "      <th>HiringDecision</th>\n",
       "      <td>1500.0</td>\n",
       "      <td>0.310000</td>\n",
       "      <td>0.462647</td>\n",
       "      <td>0.000000</td>\n",
       "      <td>0.000000</td>\n",
       "      <td>0.000000</td>\n",
       "      <td>1.000000</td>\n",
       "      <td>1.000000</td>\n",
       "    </tr>\n",
       "  </tbody>\n",
       "</table>\n",
       "</div>"
      ],
      "text/plain": [
       "                      count       mean        std        min        25%  \\\n",
       "Age                  1500.0  35.148667   9.252728  20.000000  27.000000   \n",
       "Gender               1500.0   0.492000   0.500103   0.000000   0.000000   \n",
       "EducationLevel       1500.0   2.188000   0.862449   1.000000   2.000000   \n",
       "ExperienceYears      1500.0   7.694000   4.641414   0.000000   4.000000   \n",
       "PreviousCompanies    1500.0   3.002000   1.410670   1.000000   2.000000   \n",
       "DistanceFromCompany  1500.0  25.505379  14.567151   1.031376  12.838851   \n",
       "InterviewScore       1500.0  50.564000  28.626215   0.000000  25.000000   \n",
       "SkillScore           1500.0  51.116000  29.353563   0.000000  25.750000   \n",
       "PersonalityScore     1500.0  49.387333  29.353201   0.000000  23.000000   \n",
       "RecruitmentStrategy  1500.0   1.893333   0.689642   1.000000   1.000000   \n",
       "HiringDecision       1500.0   0.310000   0.462647   0.000000   0.000000   \n",
       "\n",
       "                           50%        75%         max  \n",
       "Age                  35.000000  43.000000   50.000000  \n",
       "Gender                0.000000   1.000000    1.000000  \n",
       "EducationLevel        2.000000   3.000000    4.000000  \n",
       "ExperienceYears       8.000000  12.000000   15.000000  \n",
       "PreviousCompanies     3.000000   4.000000    5.000000  \n",
       "DistanceFromCompany  25.502239  37.737996   50.992462  \n",
       "InterviewScore       52.000000  75.000000  100.000000  \n",
       "SkillScore           53.000000  76.000000  100.000000  \n",
       "PersonalityScore     49.000000  76.000000  100.000000  \n",
       "RecruitmentStrategy   2.000000   2.000000    3.000000  \n",
       "HiringDecision        0.000000   1.000000    1.000000  "
      ]
     },
     "execution_count": 6,
     "metadata": {},
     "output_type": "execute_result"
    }
   ],
   "source": [
    "df.describe().T"
   ]
  },
  {
   "cell_type": "markdown",
   "id": "318092b3",
   "metadata": {},
   "source": [
    "DEFINING OF FEATURE & TARGET VARIABLES"
   ]
  },
  {
   "cell_type": "code",
   "execution_count": 7,
   "id": "dd9322e1",
   "metadata": {},
   "outputs": [],
   "source": [
    "X = df.drop(columns='HiringDecision')\n",
    "y = df['HiringDecision']"
   ]
  },
  {
   "cell_type": "code",
   "execution_count": 8,
   "id": "e4201045",
   "metadata": {},
   "outputs": [
    {
     "data": {
      "text/html": [
       "<div>\n",
       "<style scoped>\n",
       "    .dataframe tbody tr th:only-of-type {\n",
       "        vertical-align: middle;\n",
       "    }\n",
       "\n",
       "    .dataframe tbody tr th {\n",
       "        vertical-align: top;\n",
       "    }\n",
       "\n",
       "    .dataframe thead th {\n",
       "        text-align: right;\n",
       "    }\n",
       "</style>\n",
       "<table border=\"1\" class=\"dataframe\">\n",
       "  <thead>\n",
       "    <tr style=\"text-align: right;\">\n",
       "      <th></th>\n",
       "      <th>Age</th>\n",
       "      <th>Gender</th>\n",
       "      <th>EducationLevel</th>\n",
       "      <th>ExperienceYears</th>\n",
       "      <th>PreviousCompanies</th>\n",
       "      <th>DistanceFromCompany</th>\n",
       "      <th>InterviewScore</th>\n",
       "      <th>SkillScore</th>\n",
       "      <th>PersonalityScore</th>\n",
       "      <th>RecruitmentStrategy</th>\n",
       "    </tr>\n",
       "  </thead>\n",
       "  <tbody>\n",
       "    <tr>\n",
       "      <th>0</th>\n",
       "      <td>26</td>\n",
       "      <td>1</td>\n",
       "      <td>2</td>\n",
       "      <td>0</td>\n",
       "      <td>3</td>\n",
       "      <td>26.783828</td>\n",
       "      <td>48</td>\n",
       "      <td>78</td>\n",
       "      <td>91</td>\n",
       "      <td>1</td>\n",
       "    </tr>\n",
       "    <tr>\n",
       "      <th>1</th>\n",
       "      <td>39</td>\n",
       "      <td>1</td>\n",
       "      <td>4</td>\n",
       "      <td>12</td>\n",
       "      <td>3</td>\n",
       "      <td>25.862694</td>\n",
       "      <td>35</td>\n",
       "      <td>68</td>\n",
       "      <td>80</td>\n",
       "      <td>2</td>\n",
       "    </tr>\n",
       "    <tr>\n",
       "      <th>2</th>\n",
       "      <td>48</td>\n",
       "      <td>0</td>\n",
       "      <td>2</td>\n",
       "      <td>3</td>\n",
       "      <td>2</td>\n",
       "      <td>9.920805</td>\n",
       "      <td>20</td>\n",
       "      <td>67</td>\n",
       "      <td>13</td>\n",
       "      <td>2</td>\n",
       "    </tr>\n",
       "    <tr>\n",
       "      <th>3</th>\n",
       "      <td>34</td>\n",
       "      <td>1</td>\n",
       "      <td>2</td>\n",
       "      <td>5</td>\n",
       "      <td>2</td>\n",
       "      <td>6.407751</td>\n",
       "      <td>36</td>\n",
       "      <td>27</td>\n",
       "      <td>70</td>\n",
       "      <td>3</td>\n",
       "    </tr>\n",
       "    <tr>\n",
       "      <th>4</th>\n",
       "      <td>30</td>\n",
       "      <td>0</td>\n",
       "      <td>1</td>\n",
       "      <td>6</td>\n",
       "      <td>1</td>\n",
       "      <td>43.105343</td>\n",
       "      <td>23</td>\n",
       "      <td>52</td>\n",
       "      <td>85</td>\n",
       "      <td>2</td>\n",
       "    </tr>\n",
       "    <tr>\n",
       "      <th>...</th>\n",
       "      <td>...</td>\n",
       "      <td>...</td>\n",
       "      <td>...</td>\n",
       "      <td>...</td>\n",
       "      <td>...</td>\n",
       "      <td>...</td>\n",
       "      <td>...</td>\n",
       "      <td>...</td>\n",
       "      <td>...</td>\n",
       "      <td>...</td>\n",
       "    </tr>\n",
       "    <tr>\n",
       "      <th>1495</th>\n",
       "      <td>48</td>\n",
       "      <td>0</td>\n",
       "      <td>2</td>\n",
       "      <td>3</td>\n",
       "      <td>4</td>\n",
       "      <td>9.183783</td>\n",
       "      <td>66</td>\n",
       "      <td>3</td>\n",
       "      <td>80</td>\n",
       "      <td>3</td>\n",
       "    </tr>\n",
       "    <tr>\n",
       "      <th>1496</th>\n",
       "      <td>27</td>\n",
       "      <td>1</td>\n",
       "      <td>2</td>\n",
       "      <td>10</td>\n",
       "      <td>3</td>\n",
       "      <td>14.847731</td>\n",
       "      <td>43</td>\n",
       "      <td>97</td>\n",
       "      <td>7</td>\n",
       "      <td>2</td>\n",
       "    </tr>\n",
       "    <tr>\n",
       "      <th>1497</th>\n",
       "      <td>24</td>\n",
       "      <td>1</td>\n",
       "      <td>1</td>\n",
       "      <td>1</td>\n",
       "      <td>2</td>\n",
       "      <td>4.289911</td>\n",
       "      <td>31</td>\n",
       "      <td>91</td>\n",
       "      <td>58</td>\n",
       "      <td>1</td>\n",
       "    </tr>\n",
       "    <tr>\n",
       "      <th>1498</th>\n",
       "      <td>48</td>\n",
       "      <td>0</td>\n",
       "      <td>2</td>\n",
       "      <td>4</td>\n",
       "      <td>4</td>\n",
       "      <td>36.299263</td>\n",
       "      <td>9</td>\n",
       "      <td>37</td>\n",
       "      <td>44</td>\n",
       "      <td>2</td>\n",
       "    </tr>\n",
       "    <tr>\n",
       "      <th>1499</th>\n",
       "      <td>34</td>\n",
       "      <td>1</td>\n",
       "      <td>2</td>\n",
       "      <td>11</td>\n",
       "      <td>5</td>\n",
       "      <td>12.910472</td>\n",
       "      <td>63</td>\n",
       "      <td>40</td>\n",
       "      <td>26</td>\n",
       "      <td>2</td>\n",
       "    </tr>\n",
       "  </tbody>\n",
       "</table>\n",
       "<p>1500 rows × 10 columns</p>\n",
       "</div>"
      ],
      "text/plain": [
       "      Age  Gender  EducationLevel  ExperienceYears  PreviousCompanies  \\\n",
       "0      26       1               2                0                  3   \n",
       "1      39       1               4               12                  3   \n",
       "2      48       0               2                3                  2   \n",
       "3      34       1               2                5                  2   \n",
       "4      30       0               1                6                  1   \n",
       "...   ...     ...             ...              ...                ...   \n",
       "1495   48       0               2                3                  4   \n",
       "1496   27       1               2               10                  3   \n",
       "1497   24       1               1                1                  2   \n",
       "1498   48       0               2                4                  4   \n",
       "1499   34       1               2               11                  5   \n",
       "\n",
       "      DistanceFromCompany  InterviewScore  SkillScore  PersonalityScore  \\\n",
       "0               26.783828              48          78                91   \n",
       "1               25.862694              35          68                80   \n",
       "2                9.920805              20          67                13   \n",
       "3                6.407751              36          27                70   \n",
       "4               43.105343              23          52                85   \n",
       "...                   ...             ...         ...               ...   \n",
       "1495             9.183783              66           3                80   \n",
       "1496            14.847731              43          97                 7   \n",
       "1497             4.289911              31          91                58   \n",
       "1498            36.299263               9          37                44   \n",
       "1499            12.910472              63          40                26   \n",
       "\n",
       "      RecruitmentStrategy  \n",
       "0                       1  \n",
       "1                       2  \n",
       "2                       2  \n",
       "3                       3  \n",
       "4                       2  \n",
       "...                   ...  \n",
       "1495                    3  \n",
       "1496                    2  \n",
       "1497                    1  \n",
       "1498                    2  \n",
       "1499                    2  \n",
       "\n",
       "[1500 rows x 10 columns]"
      ]
     },
     "execution_count": 8,
     "metadata": {},
     "output_type": "execute_result"
    }
   ],
   "source": [
    "X"
   ]
  },
  {
   "cell_type": "code",
   "execution_count": 9,
   "id": "18f24c26",
   "metadata": {},
   "outputs": [
    {
     "data": {
      "text/plain": [
       "0       1\n",
       "1       1\n",
       "2       0\n",
       "3       0\n",
       "4       0\n",
       "       ..\n",
       "1495    1\n",
       "1496    0\n",
       "1497    1\n",
       "1498    1\n",
       "1499    1\n",
       "Name: HiringDecision, Length: 1500, dtype: int64"
      ]
     },
     "execution_count": 9,
     "metadata": {},
     "output_type": "execute_result"
    }
   ],
   "source": [
    "y"
   ]
  },
  {
   "cell_type": "markdown",
   "id": "38e2e001",
   "metadata": {},
   "source": [
    "SAMPLING"
   ]
  },
  {
   "cell_type": "code",
   "execution_count": 10,
   "id": "a5eed8a8",
   "metadata": {},
   "outputs": [],
   "source": [
    "from sklearn.model_selection import train_test_split\n",
    "from sklearn.ensemble import  GradientBoostingClassifier\n",
    "from sklearn.metrics import accuracy_score,precision_score,recall_score,f1_score,classification_report,confusion_matrix\n",
    "X_train, X_test, y_train, y_test = train_test_split(X, y, test_size=0.2, stratify=y, random_state=42)"
   ]
  },
  {
   "cell_type": "code",
   "execution_count": 11,
   "id": "287a9786",
   "metadata": {},
   "outputs": [
    {
     "data": {
      "text/plain": [
       "((1500, 10), (1200, 10), (300, 10), (1500,), (1200,), (300,))"
      ]
     },
     "execution_count": 11,
     "metadata": {},
     "output_type": "execute_result"
    }
   ],
   "source": [
    "X.shape, X_train.shape, X_test.shape,y.shape,y_train.shape,y_test.shape"
   ]
  },
  {
   "cell_type": "markdown",
   "id": "89537c5b",
   "metadata": {},
   "source": [
    "MODEL FITTING"
   ]
  },
  {
   "cell_type": "code",
   "execution_count": 12,
   "id": "f04775d9",
   "metadata": {},
   "outputs": [
    {
     "data": {
      "text/html": [
       "<style>#sk-container-id-1 {color: black;background-color: white;}#sk-container-id-1 pre{padding: 0;}#sk-container-id-1 div.sk-toggleable {background-color: white;}#sk-container-id-1 label.sk-toggleable__label {cursor: pointer;display: block;width: 100%;margin-bottom: 0;padding: 0.3em;box-sizing: border-box;text-align: center;}#sk-container-id-1 label.sk-toggleable__label-arrow:before {content: \"▸\";float: left;margin-right: 0.25em;color: #696969;}#sk-container-id-1 label.sk-toggleable__label-arrow:hover:before {color: black;}#sk-container-id-1 div.sk-estimator:hover label.sk-toggleable__label-arrow:before {color: black;}#sk-container-id-1 div.sk-toggleable__content {max-height: 0;max-width: 0;overflow: hidden;text-align: left;background-color: #f0f8ff;}#sk-container-id-1 div.sk-toggleable__content pre {margin: 0.2em;color: black;border-radius: 0.25em;background-color: #f0f8ff;}#sk-container-id-1 input.sk-toggleable__control:checked~div.sk-toggleable__content {max-height: 200px;max-width: 100%;overflow: auto;}#sk-container-id-1 input.sk-toggleable__control:checked~label.sk-toggleable__label-arrow:before {content: \"▾\";}#sk-container-id-1 div.sk-estimator input.sk-toggleable__control:checked~label.sk-toggleable__label {background-color: #d4ebff;}#sk-container-id-1 div.sk-label input.sk-toggleable__control:checked~label.sk-toggleable__label {background-color: #d4ebff;}#sk-container-id-1 input.sk-hidden--visually {border: 0;clip: rect(1px 1px 1px 1px);clip: rect(1px, 1px, 1px, 1px);height: 1px;margin: -1px;overflow: hidden;padding: 0;position: absolute;width: 1px;}#sk-container-id-1 div.sk-estimator {font-family: monospace;background-color: #f0f8ff;border: 1px dotted black;border-radius: 0.25em;box-sizing: border-box;margin-bottom: 0.5em;}#sk-container-id-1 div.sk-estimator:hover {background-color: #d4ebff;}#sk-container-id-1 div.sk-parallel-item::after {content: \"\";width: 100%;border-bottom: 1px solid gray;flex-grow: 1;}#sk-container-id-1 div.sk-label:hover label.sk-toggleable__label {background-color: #d4ebff;}#sk-container-id-1 div.sk-serial::before {content: \"\";position: absolute;border-left: 1px solid gray;box-sizing: border-box;top: 0;bottom: 0;left: 50%;z-index: 0;}#sk-container-id-1 div.sk-serial {display: flex;flex-direction: column;align-items: center;background-color: white;padding-right: 0.2em;padding-left: 0.2em;position: relative;}#sk-container-id-1 div.sk-item {position: relative;z-index: 1;}#sk-container-id-1 div.sk-parallel {display: flex;align-items: stretch;justify-content: center;background-color: white;position: relative;}#sk-container-id-1 div.sk-item::before, #sk-container-id-1 div.sk-parallel-item::before {content: \"\";position: absolute;border-left: 1px solid gray;box-sizing: border-box;top: 0;bottom: 0;left: 50%;z-index: -1;}#sk-container-id-1 div.sk-parallel-item {display: flex;flex-direction: column;z-index: 1;position: relative;background-color: white;}#sk-container-id-1 div.sk-parallel-item:first-child::after {align-self: flex-end;width: 50%;}#sk-container-id-1 div.sk-parallel-item:last-child::after {align-self: flex-start;width: 50%;}#sk-container-id-1 div.sk-parallel-item:only-child::after {width: 0;}#sk-container-id-1 div.sk-dashed-wrapped {border: 1px dashed gray;margin: 0 0.4em 0.5em 0.4em;box-sizing: border-box;padding-bottom: 0.4em;background-color: white;}#sk-container-id-1 div.sk-label label {font-family: monospace;font-weight: bold;display: inline-block;line-height: 1.2em;}#sk-container-id-1 div.sk-label-container {text-align: center;}#sk-container-id-1 div.sk-container {/* jupyter's `normalize.less` sets `[hidden] { display: none; }` but bootstrap.min.css set `[hidden] { display: none !important; }` so we also need the `!important` here to be able to override the default hidden behavior on the sphinx rendered scikit-learn.org. See: https://github.com/scikit-learn/scikit-learn/issues/21755 */display: inline-block !important;position: relative;}#sk-container-id-1 div.sk-text-repr-fallback {display: none;}</style><div id=\"sk-container-id-1\" class=\"sk-top-container\"><div class=\"sk-text-repr-fallback\"><pre>GradientBoostingClassifier(random_state=42)</pre><b>In a Jupyter environment, please rerun this cell to show the HTML representation or trust the notebook. <br />On GitHub, the HTML representation is unable to render, please try loading this page with nbviewer.org.</b></div><div class=\"sk-container\" hidden><div class=\"sk-item\"><div class=\"sk-estimator sk-toggleable\"><input class=\"sk-toggleable__control sk-hidden--visually\" id=\"sk-estimator-id-1\" type=\"checkbox\" checked><label for=\"sk-estimator-id-1\" class=\"sk-toggleable__label sk-toggleable__label-arrow\">GradientBoostingClassifier</label><div class=\"sk-toggleable__content\"><pre>GradientBoostingClassifier(random_state=42)</pre></div></div></div></div></div>"
      ],
      "text/plain": [
       "GradientBoostingClassifier(random_state=42)"
      ]
     },
     "execution_count": 12,
     "metadata": {},
     "output_type": "execute_result"
    }
   ],
   "source": [
    "model = GradientBoostingClassifier(random_state=42)\n",
    "model.fit(X_train,y_train)"
   ]
  },
  {
   "cell_type": "markdown",
   "id": "d8bdc8ad",
   "metadata": {},
   "source": [
    "ACURACY PREDICTION ON 1. TRAIN DATA"
   ]
  },
  {
   "cell_type": "code",
   "execution_count": 14,
   "id": "419e4f99",
   "metadata": {},
   "outputs": [
    {
     "name": "stdout",
     "output_type": "stream",
     "text": [
      "0.97\n"
     ]
    }
   ],
   "source": [
    "# accuracy on training data\n",
    "y_train_prediction = model.predict(X_train)\n",
    "training_data_accuracy = accuracy_score(y_train, y_train_prediction)\n",
    "print(training_data_accuracy)"
   ]
  },
  {
   "cell_type": "code",
   "execution_count": 22,
   "id": "7a4d6ce9",
   "metadata": {},
   "outputs": [
    {
     "name": "stdout",
     "output_type": "stream",
     "text": [
      "Accuracy on Training data :  97.0 %\n"
     ]
    }
   ],
   "source": [
    "print('Accuracy on Training data : ', round(training_data_accuracy*100,2), '%')"
   ]
  },
  {
   "cell_type": "markdown",
   "id": "d1df5a9e",
   "metadata": {},
   "source": [
    "ACCURACY PREDICTIO ON 2. TEST DATA"
   ]
  },
  {
   "cell_type": "code",
   "execution_count": 23,
   "id": "f91a03ef",
   "metadata": {},
   "outputs": [
    {
     "name": "stdout",
     "output_type": "stream",
     "text": [
      "0.9366666666666666\n"
     ]
    }
   ],
   "source": [
    "# accuracy on test data\n",
    "y_test_prediction = model.predict(X_test)\n",
    "test_data_accuracy = accuracy_score(y_test, y_test_prediction)\n",
    "print(test_data_accuracy)"
   ]
  },
  {
   "cell_type": "code",
   "execution_count": 25,
   "id": "5a89f5bc",
   "metadata": {},
   "outputs": [
    {
     "name": "stdout",
     "output_type": "stream",
     "text": [
      "Accuracy on Test data :  93.67 %\n"
     ]
    }
   ],
   "source": [
    "print('Accuracy on Test data : ', round(test_data_accuracy*100, 2), '%')"
   ]
  },
  {
   "cell_type": "markdown",
   "id": "c1591322",
   "metadata": {},
   "source": [
    "CONFUSION MATRIX IMPLIMANTATION 1.TEST DATA"
   ]
  },
  {
   "cell_type": "code",
   "execution_count": 26,
   "id": "0f48e1e4",
   "metadata": {},
   "outputs": [
    {
     "name": "stdout",
     "output_type": "stream",
     "text": [
      "[[203   4]\n",
      " [ 15  78]]\n"
     ]
    }
   ],
   "source": [
    "cf_matrix = confusion_matrix(y_test,y_test_prediction)\n",
    "\n",
    "print(cf_matrix)"
   ]
  },
  {
   "cell_type": "code",
   "execution_count": 27,
   "id": "8edb22bb",
   "metadata": {},
   "outputs": [
    {
     "data": {
      "text/plain": [
       "<Axes: >"
      ]
     },
     "execution_count": 27,
     "metadata": {},
     "output_type": "execute_result"
    },
    {
     "data": {
      "image/png": "[encoded data removed]",
      "text/plain": [
       "<Figure size 640x480 with 2 Axes>"
      ]
     },
     "metadata": {},
     "output_type": "display_data"
    }
   ],
   "source": [
    "import seaborn as sns\n",
    "sns.heatmap(cf_matrix, annot=True)"
   ]
  },
  {
   "cell_type": "markdown",
   "id": "b8b3993c",
   "metadata": {},
   "source": [
    "CLASSIFICATION REPORT 1. TEST DATA"
   ]
  },
  {
   "cell_type": "code",
   "execution_count": 29,
   "id": "20048783",
   "metadata": {},
   "outputs": [
    {
     "name": "stdout",
     "output_type": "stream",
     "text": [
      "              precision    recall  f1-score   support\n",
      "\n",
      "           0       0.93      0.98      0.96       207\n",
      "           1       0.95      0.84      0.89        93\n",
      "\n",
      "    accuracy                           0.94       300\n",
      "   macro avg       0.94      0.91      0.92       300\n",
      "weighted avg       0.94      0.94      0.94       300\n",
      "\n"
     ]
    }
   ],
   "source": [
    "print(classification_report(y_test,model.predict(X_test)))"
   ]
  },
  {
   "cell_type": "markdown",
   "id": "6d951158",
   "metadata": {},
   "source": [
    "COFUSIN MATRIX ON 2.TRAIN DATA"
   ]
  },
  {
   "cell_type": "code",
   "execution_count": 30,
   "id": "f28337fb",
   "metadata": {},
   "outputs": [
    {
     "name": "stdout",
     "output_type": "stream",
     "text": [
      "[[820   8]\n",
      " [ 28 344]]\n"
     ]
    }
   ],
   "source": [
    "cf_matrix = confusion_matrix(y_train,y_train_prediction)\n",
    "\n",
    "print(cf_matrix)"
   ]
  },
  {
   "cell_type": "code",
   "execution_count": 31,
   "id": "06262e32",
   "metadata": {},
   "outputs": [
    {
     "data": {
      "text/plain": [
       "<Axes: >"
      ]
     },
     "execution_count": 31,
     "metadata": {},
     "output_type": "execute_result"
    },
    {
     "data": {
      "image/png": "[encoded data removed]",
      "text/plain": [
       "<Figure size 640x480 with 2 Axes>"
      ]
     },
     "metadata": {},
     "output_type": "display_data"
    }
   ],
   "source": [
    "import seaborn as sns\n",
    "sns.heatmap(cf_matrix, annot=True)"
   ]
  },
  {
   "cell_type": "markdown",
   "id": "c54bbcff",
   "metadata": {},
   "source": [
    "CLASSIFICATION REPORT 2. TRAIN DATA"
   ]
  },
  {
   "cell_type": "code",
   "execution_count": 32,
   "id": "2542467a",
   "metadata": {},
   "outputs": [
    {
     "name": "stdout",
     "output_type": "stream",
     "text": [
      "              precision    recall  f1-score   support\n",
      "\n",
      "           0       0.97      0.99      0.98       828\n",
      "           1       0.98      0.92      0.95       372\n",
      "\n",
      "    accuracy                           0.97      1200\n",
      "   macro avg       0.97      0.96      0.96      1200\n",
      "weighted avg       0.97      0.97      0.97      1200\n",
      "\n"
     ]
    }
   ],
   "source": [
    "print(classification_report(y_train,model.predict(X_train)))"
   ]
  },
  {
   "cell_type": "code",
   "execution_count": null,
   "id": "f1896199",
   "metadata": {},
   "outputs": [],
   "source": [
    "From the above study we come to the conlusion that 93 cadidates are selcted for jobs , but 207 candidates are to be selected"
   ]
  },
  {
   "cell_type": "markdown",
   "id": "cce7a203",
   "metadata": {},
   "source": [
    "*****************************************************DONE***********************************************************"
   ]
  }
 ],
 "metadata": {
  "kernelspec": {
   "display_name": "Python 3 (ipykernel)",
   "language": "python",
   "name": "python3"
  },
  "language_info": {
   "codemirror_mode": {
    "name": "ipython",
    "version": 3
   },
   "file_extension": ".py",
   "mimetype": "text/x-python",
   "name": "python",
   "nbconvert_exporter": "python",
   "pygments_lexer": "ipython3",
   "version": "3.11.7"
  }
 },
 "nbformat": 4,
 "nbformat_minor": 5
}
